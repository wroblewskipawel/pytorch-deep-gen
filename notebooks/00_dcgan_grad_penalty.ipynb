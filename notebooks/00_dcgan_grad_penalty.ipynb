{
 "cells": [
  {
   "cell_type": "code",
   "execution_count": null,
   "metadata": {},
   "outputs": [],
   "source": [
    "import sys; sys.path.append('../')\n",
    "\n",
    "import os\n",
    "import numpy as np\n",
    "import torch\n",
    "import torch.optim as optim\n",
    "import torch.nn as nn\n",
    "import torchvision.transforms as tf\n",
    "from torchvision.datasets import CIFAR10\n",
    "import matplotlib.pyplot as plt\n",
    "\n",
    "device = torch.device('cuda' if torch.cuda.is_available() else 'cpu')"
   ]
  },
  {
   "cell_type": "code",
   "execution_count": null,
   "metadata": {},
   "outputs": [],
   "source": [
    "from python.deepgen.models import dcgan\n",
    "from python.deepgen.training import adversarial, loss\n",
    "from python.deepgen.utils.image import Unnormalize\n",
    "from python.deepgen.utils.init import Initializer\n",
    "from python.deepgen.datasets import  common"
   ]
  },
  {
   "cell_type": "code",
   "execution_count": null,
   "metadata": {},
   "outputs": [],
   "source": [
    "latent_channels = 128\n",
    "image_channels = 3\n",
    "hidden_layers = 3\n",
    "base_channels = 64\n",
    "lr = 2e-4\n",
    "\n",
    "init_map = {\n",
    "    nn.Conv2d: {'weight': (nn.init.normal_, {'mean':0.0, 'std':0.02}),\n",
    "                'bias': (nn.init.constant_, {'val': 0.0})},\n",
    "    nn.ConvTranspose2d: {'weight': (nn.init.normal_, {'mean':0.0, 'std':0.02}),\n",
    "                         'bias': (nn.init.constant_, {'val': 0.0})},\n",
    "}\n",
    "\n",
    "init_fn = Initializer(init_map)\n",
    "\n",
    "def build_model():\n",
    "    model = dcgan.vanilla_dcgan(latent_channels, image_channels,\n",
    "                                hidden_layers, base_channels=base_channels,\n",
    "                                init_fn=init_fn)\n",
    "    model['gen'].to(device)\n",
    "    model['disc'].to(device)\n",
    "    gen_opt = optim.Adam(model['gen'].parameters(), lr, betas=(0.5, 0.999))\n",
    "    disc_opt = optim.Adam(model['disc'].parameters(), lr, betas=(0.5, 0.999))\n",
    "    optimizers = {'gen': gen_opt, 'disc': disc_opt}\n",
    "    return model, optimizers\n"
   ]
  },
  {
   "cell_type": "markdown",
   "metadata": {},
   "source": [
    "# CIFAR 10"
   ]
  },
  {
   "cell_type": "code",
   "execution_count": null,
   "metadata": {},
   "outputs": [],
   "source": [
    "cifar10n, cifar10_mean, cifar10_std  = common.cifar10n()\n",
    "\n",
    "batch_size = 32\n",
    "shuffle = True\n",
    "num_workers = 0\n",
    "dataloader = torch.utils.data.DataLoader(\n",
    "    cifar10n, batch_size, shuffle, num_workers=num_workers)\n",
    "samples = torch.split(next(iter(dataloader)), 1)\n",
    "\n",
    "num_rows =int(np.ceil(batch_size/4))\n",
    "num_cols = 4\n",
    "fig, axes = plt.subplots(num_rows, num_cols, figsize=(2*num_cols, 2*num_rows))\n",
    "\n",
    "unnorm_cifar10 = Unnormalize(cifar10_mean, cifar10_std)\n",
    "\n",
    "output_transform = tf.Compose([\n",
    "    Unnormalize(cifar10_mean, cifar10_std),\n",
    "    tf.Lambda(lambda x: x.squeeze(0)),\n",
    "    tf.ToPILImage('RGB'),\n",
    "])\n",
    "\n",
    "for sample, ax in zip(samples, axes.ravel()):\n",
    "    ax.imshow(output_transform(sample))\n",
    "for ax in axes.ravel():\n",
    "    ax.axis('off')\n",
    "\n",
    "fig.tight_layout()\n"
   ]
  },
  {
   "cell_type": "markdown",
   "metadata": {},
   "source": [
    "## BCELoss"
   ]
  },
  {
   "cell_type": "code",
   "execution_count": null,
   "metadata": {},
   "outputs": [],
   "source": [
    "model, optims = build_model()\n",
    "criterions = [nn.BCEWithLogitsLoss(reduction='mean')]\n",
    "samplers = {\n",
    "    'latent': lambda bs: torch.rand(bs, latent_channels, 1, 1)*2-1,\n",
    "    'labels': lambda bs: (torch.ones(bs, 1, 1, 1), torch.zeros(bs, 1, 1, 1))   \n",
    "}\n",
    "trainer = adversarial.Trainer(model, optims, samplers, criterions, device)\n",
    "\n",
    "num_epochs = 32\n",
    "output_dir = '../models/dcgan_cifar10_bce'"
   ]
  },
  {
   "cell_type": "code",
   "execution_count": null,
   "metadata": {},
   "outputs": [],
   "source": [
    "history = trainer.train(dataloader, num_epochs, output_dir, output_transform, True)"
   ]
  },
  {
   "cell_type": "markdown",
   "metadata": {},
   "source": [
    "## WGAN-GP"
   ]
  },
  {
   "cell_type": "code",
   "execution_count": null,
   "metadata": {},
   "outputs": [],
   "source": [
    "model, optims = build_model()\n",
    "criterions = [loss.Wasserstein1()]\n",
    "reg = [loss.GradPenalty(10)]\n",
    "samplers = {\n",
    "    'latent': lambda bs: torch.rand(bs, latent_channels, 1, 1)*2-1,\n",
    "    'labels': lambda bs: (torch.ones(bs, 1, 1, 1), (-1)*torch.ones(bs, 1, 1, 1)),\n",
    "}\n",
    "trainer = adversarial.Trainer(model, optims, samplers, criterions, device, reg=reg)\n",
    "\n",
    "num_epochs = 16\n",
    "output_dir = '../models/dcgan_cifar10_wgp'"
   ]
  },
  {
   "cell_type": "code",
   "execution_count": null,
   "metadata": {},
   "outputs": [],
   "source": [
    "history = trainer.train(dataloader, num_epochs, output_dir, output_transform, True)"
   ]
  },
  {
   "cell_type": "code",
   "execution_count": null,
   "metadata": {},
   "outputs": [],
   "source": []
  }
 ],
 "metadata": {
  "kernelspec": {
   "display_name": "Python 3.8.5 64-bit ('pytorch_env': conda)",
   "name": "python385jvsc74a57bd0e016d4dd0e064b7c1aff94752bda7a13d8e29c3d77200207baf8d0194d31e52e"
  },
  "language_info": {
   "codemirror_mode": {
    "name": "ipython",
    "version": 3
   },
   "file_extension": ".py",
   "mimetype": "text/x-python",
   "name": "python",
   "nbconvert_exporter": "python",
   "pygments_lexer": "ipython3",
   "version": "3.8.5"
  },
  "metadata": {
   "interpreter": {
    "hash": "e016d4dd0e064b7c1aff94752bda7a13d8e29c3d77200207baf8d0194d31e52e"
   }
  },
  "orig_nbformat": 3
 },
 "nbformat": 4,
 "nbformat_minor": 2
}